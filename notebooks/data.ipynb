{
 "cells": [
  {
   "cell_type": "code",
   "execution_count": 1,
   "id": "778ea1c7-fa28-4232-92b6-faf51b7279a1",
   "metadata": {},
   "outputs": [
    {
     "name": "stdout",
     "output_type": "stream",
     "text": [
      "/home/someshs/transuasion\n",
      "File ‘./data/wordlist-20210729.txt’ already there; not retrieving.\n",
      "\n"
     ]
    }
   ],
   "source": [
    "%cd ~/transuasion\n",
    "\n",
    "import pandas as pd\n",
    "import json\n",
    "import seaborn as sns\n",
    "import numpy as np\n",
    "import re\n",
    "from collections import Counter\n",
    "\n",
    "from transuasion.utils.url_verb import get_url_verb_dict\n",
    "from transuasion.utils.clean_tweet import clean_tweet\n",
    "!wget -nc https://github.com/wordnik/wordlist/raw/main/wordlist-20210729.txt -P ./data\n",
    "en = set(open('data/wordlist-20210729.txt').read().split())"
   ]
  },
  {
   "cell_type": "code",
   "execution_count": 2,
   "id": "47e3320d-bd74-494e-85f2-926f66c24b2a",
   "metadata": {},
   "outputs": [],
   "source": [
    "df_pairs = pd.read_parquet('data/parallel_tweet_it0.parquet')\n",
    "usernames = json.load(open('data/approved_usernames.json'))"
   ]
  },
  {
   "cell_type": "code",
   "execution_count": 3,
   "id": "8ab009a4-2a6b-47c4-9a6d-7d9716f66b98",
   "metadata": {},
   "outputs": [],
   "source": [
    "df_pairs = df_pairs[(df_pairs['character_difference']>5) & (df_pairs['date_diff']<=45) & (df_pairs['similarity']>=0.5) & (df_pairs['media_x']=='') & (df_pairs['media_y']=='') & (df_pairs['username'].isin(usernames))]"
   ]
  },
  {
   "cell_type": "code",
   "execution_count": 4,
   "id": "021674a1-67a0-46f7-8d70-c9d309b9ab2f",
   "metadata": {},
   "outputs": [],
   "source": [
    "url_column = df_pairs['url'].drop_duplicates()\n",
    "url_verb, url_df = get_url_verb_dict(url_column, en)\n",
    "json.dump(url_verb, open('url_verb.json', 'w'), indent=4)"
   ]
  },
  {
   "cell_type": "code",
   "execution_count": 5,
   "id": "002ccb54-b920-4004-bbd2-452c81711659",
   "metadata": {},
   "outputs": [
    {
     "data": {
      "text/plain": [
       "netloc\n",
       "bit.ly                         57454\n",
       "www.youtube.com                15124\n",
       "buff.ly                         9741\n",
       "twitter.com                     7842\n",
       "www.liverpoolecho.co.uk         4870\n",
       "                               ...  \n",
       "www.merseytravel.gov.uk            1\n",
       "www.liverpoolfairs.org.uk          1\n",
       "www.liverpool.aluminate.net        1\n",
       "learningonscreen.ac.uk             1\n",
       "www.seamless.com                   1\n",
       "Name: count, Length: 16142, dtype: int64"
      ]
     },
     "execution_count": 5,
     "metadata": {},
     "output_type": "execute_result"
    }
   ],
   "source": [
    "url_df['netloc'].value_counts()"
   ]
  },
  {
   "cell_type": "markdown",
   "id": "09acfcd0-4cb2-40b8-8206-7d72bdb0a78d",
   "metadata": {},
   "source": [
    "# Pair Simulation"
   ]
  },
  {
   "cell_type": "code",
   "execution_count": 6,
   "id": "d8cd2a64-51cc-4718-bbc5-1f308af664dd",
   "metadata": {},
   "outputs": [],
   "source": [
    "PREFIX = \"\"\"{} wrote a tweet.\n",
    "{} Compare the engagement levels of two tweets: Tweet (A) and Tweet (B).\n",
    "Determine which tweet will get a higher number of likes, answer (A) or (B).\n",
    "Provide the ratio of likes for (A) and (B)\n",
    "\"\"\"\n",
    "\n",
    "INSTRUCTION = \"\"\"Tweet (A) with masked mentions {}:\n",
    "'''{}'''\n",
    "\n",
    "Tweet (B) with masked mentions {}:\n",
    "'''{}'''\n",
    "\n",
    "\"\"\"\n",
    "\n",
    "ANSWER = \"\"\"{} will be liked {} times more\"\"\""
   ]
  },
  {
   "cell_type": "code",
   "execution_count": 7,
   "id": "eb4e4c31-fa84-4546-ae92-c97e14414f04",
   "metadata": {},
   "outputs": [],
   "source": [
    "pairs_0 = df_pairs[(df_pairs['likes_x'] * df_pairs['likes_y']) == 0]\n",
    "pairs_n0 = df_pairs[(df_pairs['likes_x'] * df_pairs['likes_y']) != 0]\n",
    "\n",
    "pairs_00 = pairs_0[pairs_0['likes_x'] + pairs_0['likes_y']==0] #both zero\n",
    "#pairs_0n0 = pairs_0[pairs_0['likes_x'] + pairs_0['likes_y']>0] #single zero\n",
    "\n",
    "pairs_nen = pairs_n0[pairs_n0['likes_x'] == pairs_n0['likes_y']] #non zero equals\n",
    "pairs_nnen = pairs_n0[pairs_n0['likes_x'] != pairs_n0['likes_y']] #non zero unequals\n",
    "\n",
    "pairs_nnen_close = pairs_nnen[(pairs_nnen['likes_x']+pairs_nnen['likes_y']<10) & (pairs_nnen['likes_ratio']<2)] #unequal non zero-close small values\n",
    "pairs_nnen_remain = pairs_nnen[~((pairs_nnen['likes_x']+pairs_nnen['likes_y']<10) & (pairs_nnen['likes_ratio']<2))] #unequal non zero large/far values\n",
    "\n",
    "pairs_nen_close = pairs_nen[(pairs_nen['likes_x']+pairs_nen['likes_y']<10)] #equal non zero small values\n",
    "pairs_nen_remain = pairs_nen[~((pairs_nen['likes_x']+pairs_nen['likes_y']<10))] #equal non zero large values"
   ]
  },
  {
   "cell_type": "code",
   "execution_count": 8,
   "id": "4491e45b-fbdd-4a57-b369-b0c918c8740e",
   "metadata": {},
   "outputs": [
    {
     "name": "stderr",
     "output_type": "stream",
     "text": [
      "<ipython-input-8-a2e61a1d4ba8>:1: SettingWithCopyWarning: \n",
      "A value is trying to be set on a copy of a slice from a DataFrame.\n",
      "Try using .loc[row_indexer,col_indexer] = value instead\n",
      "\n",
      "See the caveats in the documentation: https://pandas.pydata.org/pandas-docs/stable/user_guide/indexing.html#returning-a-view-versus-a-copy\n",
      "  pairs_nen_remain['tag']=\"High Non-Zero Equal Pairs\"\n",
      "<ipython-input-8-a2e61a1d4ba8>:2: SettingWithCopyWarning: \n",
      "A value is trying to be set on a copy of a slice from a DataFrame.\n",
      "Try using .loc[row_indexer,col_indexer] = value instead\n",
      "\n",
      "See the caveats in the documentation: https://pandas.pydata.org/pandas-docs/stable/user_guide/indexing.html#returning-a-view-versus-a-copy\n",
      "  pairs_nen_close['tag']=\"Low Non-Zero Equal Pairs\"\n",
      "<ipython-input-8-a2e61a1d4ba8>:3: SettingWithCopyWarning: \n",
      "A value is trying to be set on a copy of a slice from a DataFrame.\n",
      "Try using .loc[row_indexer,col_indexer] = value instead\n",
      "\n",
      "See the caveats in the documentation: https://pandas.pydata.org/pandas-docs/stable/user_guide/indexing.html#returning-a-view-versus-a-copy\n",
      "  pairs_nnen_close['tag']=\"Low Non-Zero Un-Equal Pairs\"\n",
      "<ipython-input-8-a2e61a1d4ba8>:4: SettingWithCopyWarning: \n",
      "A value is trying to be set on a copy of a slice from a DataFrame.\n",
      "Try using .loc[row_indexer,col_indexer] = value instead\n",
      "\n",
      "See the caveats in the documentation: https://pandas.pydata.org/pandas-docs/stable/user_guide/indexing.html#returning-a-view-versus-a-copy\n",
      "  pairs_nnen_remain['tag']=\"High Non-Zero Un-Equal Pairs\"\n",
      "<ipython-input-8-a2e61a1d4ba8>:5: SettingWithCopyWarning: \n",
      "A value is trying to be set on a copy of a slice from a DataFrame.\n",
      "Try using .loc[row_indexer,col_indexer] = value instead\n",
      "\n",
      "See the caveats in the documentation: https://pandas.pydata.org/pandas-docs/stable/user_guide/indexing.html#returning-a-view-versus-a-copy\n",
      "  pairs_00['tag']=\"Zero Pairs\"\n"
     ]
    }
   ],
   "source": [
    "pairs_nen_remain['tag']=\"High Non-Zero Equal Pairs\"\n",
    "pairs_nen_close['tag']=\"Low Non-Zero Equal Pairs\"\n",
    "pairs_nnen_close['tag']=\"Low Non-Zero Un-Equal Pairs\"\n",
    "pairs_nnen_remain['tag']=\"High Non-Zero Un-Equal Pairs\"\n",
    "pairs_00['tag']=\"Zero Pairs\""
   ]
  },
  {
   "cell_type": "code",
   "execution_count": 9,
   "id": "6b264695-f11a-420a-9ea2-9ae502545fc9",
   "metadata": {},
   "outputs": [
    {
     "data": {
      "text/plain": [
       "tag\n",
       "Zero Pairs                      623666\n",
       "High Non-Zero Un-Equal Pairs    521620\n",
       "Low Non-Zero Un-Equal Pairs     224153\n",
       "Low Non-Zero Equal Pairs        173191\n",
       "High Non-Zero Equal Pairs        17622\n",
       "Name: count, dtype: int64"
      ]
     },
     "execution_count": 9,
     "metadata": {},
     "output_type": "execute_result"
    }
   ],
   "source": [
    "pd.concat([pairs_nen_remain, pairs_nen_close, pairs_nnen_close, pairs_nnen_remain, pairs_00])['tag'].value_counts()"
   ]
  },
  {
   "cell_type": "code",
   "execution_count": 10,
   "id": "55a0fb7e-cd90-4fad-85b8-bf817a4ba403",
   "metadata": {},
   "outputs": [],
   "source": [
    "pair_sim = pd.concat([\n",
    "    pairs_nen_remain,\n",
    "    pairs_nnen_remain,\n",
    "    pairs_nen_close.sample(frac=0.3),\n",
    "    pairs_nnen_close.sample(frac=0.3),\n",
    "    pairs_00.sample(frac=0.1)\n",
    "]).sample(frac=1)"
   ]
  },
  {
   "cell_type": "code",
   "execution_count": 11,
   "id": "a3bcafb6-07df-4d60-a979-bd3b0d05e6ca",
   "metadata": {},
   "outputs": [],
   "source": [
    "r1 = (pair_sim['likes_x']+0.11) / (pair_sim['likes_y']+0.11).values\n",
    "r2 = (pair_sim['likes_y']+0.11) / (pair_sim['likes_x']+0.11).values\n",
    "pair_sim['likes_ratio'] = np.max(np.array([r1,r2]), axis=0)"
   ]
  },
  {
   "cell_type": "code",
   "execution_count": 12,
   "id": "72834499-7921-4c9e-bd47-c6e6ad00e632",
   "metadata": {},
   "outputs": [],
   "source": [
    "pair_sim['masked_tweet_x'] = pair_sim['tweet_x'].apply(clean_tweet)\n",
    "pair_sim['masked_tweet_y'] = pair_sim['tweet_y'].apply(clean_tweet)"
   ]
  },
  {
   "cell_type": "code",
   "execution_count": 13,
   "id": "e92c89db-733b-4e52-873b-27e5d6dbf2b5",
   "metadata": {},
   "outputs": [
    {
     "data": {
      "text/plain": [
       "1779976      (B) will be liked 1.0 times more\n",
       "11304550     (B) will be liked 1.0 times more\n",
       "17305828    (A) will be liked 2.46 times more\n",
       "23224027     (B) will be liked 1.0 times more\n",
       "42102811    (B) will be liked 2.17 times more\n",
       "                          ...                \n",
       "34705521    (A) will be liked 1.31 times more\n",
       "12977293     (B) will be liked 2.8 times more\n",
       "33983343     (B) will be liked 1.0 times more\n",
       "1467760      (B) will be liked 1.0 times more\n",
       "26732647    (B) will be liked 1.47 times more\n",
       "Length: 720812, dtype: object"
      ]
     },
     "execution_count": 13,
     "metadata": {},
     "output_type": "execute_result"
    }
   ],
   "source": [
    "pair_sim.apply(lambda x: ANSWER.format('(A)' if x.likes_x > x.likes_y else '(B)', np.round(x.likes_ratio, 2)),axis=1)"
   ]
  },
  {
   "cell_type": "code",
   "execution_count": 14,
   "id": "d5fbbe51-9cec-4a2f-b305-769b15cbe954",
   "metadata": {},
   "outputs": [
    {
     "name": "stderr",
     "output_type": "stream",
     "text": [
      "<ipython-input-14-1d8c63339f3a>:2: SettingWithCopyWarning: \n",
      "A value is trying to be set on a copy of a slice from a DataFrame.\n",
      "Try using .loc[row_indexer,col_indexer] = value instead\n",
      "\n",
      "See the caveats in the documentation: https://pandas.pydata.org/pandas-docs/stable/user_guide/indexing.html#returning-a-view-versus-a-copy\n",
      "  rpair_sim['instruction'] = pair_sim.apply(lambda x: PREFIX.format(x.username, url_verb.get(x.url, '')) + '\\n' + INSTRUCTION.format(x.masked_tweet_x['usernames'], x.masked_tweet_x['cleaned_tweet'], x.masked_tweet_y['usernames'], x.masked_tweet_y['cleaned_tweet']), axis=1)\n",
      "<ipython-input-14-1d8c63339f3a>:3: SettingWithCopyWarning: \n",
      "A value is trying to be set on a copy of a slice from a DataFrame.\n",
      "Try using .loc[row_indexer,col_indexer] = value instead\n",
      "\n",
      "See the caveats in the documentation: https://pandas.pydata.org/pandas-docs/stable/user_guide/indexing.html#returning-a-view-versus-a-copy\n",
      "  rpair_sim['answer'] = pair_sim.apply(lambda x: ANSWER.format('(A)' if x.likes_x > x.likes_y else '(B)', np.round(x.likes_ratio, 2)),axis=1)\n"
     ]
    }
   ],
   "source": [
    "rpair_sim = pair_sim[['id_x', 'id_y', 'url', 'likes_ratio']]\n",
    "rpair_sim['instruction'] = pair_sim.apply(lambda x: PREFIX.format(x.username, url_verb.get(x.url, '')) + '\\n' + INSTRUCTION.format(x.masked_tweet_x['usernames'], x.masked_tweet_x['cleaned_tweet'], x.masked_tweet_y['usernames'], x.masked_tweet_y['cleaned_tweet']), axis=1)\n",
    "rpair_sim['answer'] = pair_sim.apply(lambda x: ANSWER.format('(A)' if x.likes_x > x.likes_y else '(B)', np.round(x.likes_ratio, 2)),axis=1)"
   ]
  },
  {
   "cell_type": "code",
   "execution_count": 15,
   "id": "10d6d72c-f93b-4099-b3da-1738715ccb2a",
   "metadata": {},
   "outputs": [],
   "source": [
    "pair_ids = set(rpair_sim['id_x']).union(set(rpair_sim['id_y']))"
   ]
  },
  {
   "cell_type": "code",
   "execution_count": 16,
   "id": "9acf16d5-f27e-4439-abda-194ea1049c32",
   "metadata": {},
   "outputs": [
    {
     "data": {
      "text/plain": [
       "543983"
      ]
     },
     "execution_count": 16,
     "metadata": {},
     "output_type": "execute_result"
    }
   ],
   "source": [
    "len(pair_ids)"
   ]
  },
  {
   "cell_type": "code",
   "execution_count": 17,
   "id": "8e5d9a74-640a-440c-bf85-ad6ed4403ac2",
   "metadata": {},
   "outputs": [
    {
     "data": {
      "text/html": [
       "<div>\n",
       "<style scoped>\n",
       "    .dataframe tbody tr th:only-of-type {\n",
       "        vertical-align: middle;\n",
       "    }\n",
       "\n",
       "    .dataframe tbody tr th {\n",
       "        vertical-align: top;\n",
       "    }\n",
       "\n",
       "    .dataframe thead th {\n",
       "        text-align: right;\n",
       "    }\n",
       "</style>\n",
       "<table border=\"1\" class=\"dataframe\">\n",
       "  <thead>\n",
       "    <tr style=\"text-align: right;\">\n",
       "      <th></th>\n",
       "      <th>id_x</th>\n",
       "      <th>id_y</th>\n",
       "      <th>url</th>\n",
       "      <th>likes_ratio</th>\n",
       "      <th>instruction</th>\n",
       "      <th>answer</th>\n",
       "    </tr>\n",
       "  </thead>\n",
       "  <tbody>\n",
       "    <tr>\n",
       "      <th>1779976</th>\n",
       "      <td>256413915595014144</td>\n",
       "      <td>256415543232434176</td>\n",
       "      <td>https://media-server.com/m/p/4tpzv3st</td>\n",
       "      <td>1.000000</td>\n",
       "      <td>nokianetworks wrote a tweet.\\nThe tweet has a ...</td>\n",
       "      <td>(B) will be liked 1.0 times more</td>\n",
       "    </tr>\n",
       "    <tr>\n",
       "      <th>11304550</th>\n",
       "      <td>710225882150002688</td>\n",
       "      <td>715965199853944832</td>\n",
       "      <td>https://bit.ly/1KDGK5R</td>\n",
       "      <td>1.000000</td>\n",
       "      <td>HALcruises wrote a tweet.\\nThe tweet has a web...</td>\n",
       "      <td>(B) will be liked 1.0 times more</td>\n",
       "    </tr>\n",
       "    <tr>\n",
       "      <th>17305828</th>\n",
       "      <td>1214607023427510274</td>\n",
       "      <td>1214611450481782785</td>\n",
       "      <td>https://buff.ly/37Fm3TK</td>\n",
       "      <td>2.459854</td>\n",
       "      <td>AmerIndependent wrote a tweet.\\nThe tweet has ...</td>\n",
       "      <td>(A) will be liked 2.46 times more</td>\n",
       "    </tr>\n",
       "    <tr>\n",
       "      <th>23224027</th>\n",
       "      <td>661905865574780928</td>\n",
       "      <td>672868077990645761</td>\n",
       "      <td>https://bit.ly/1Hng7xK</td>\n",
       "      <td>1.000000</td>\n",
       "      <td>NHSLeadership wrote a tweet.\\nThe tweet has a ...</td>\n",
       "      <td>(B) will be liked 1.0 times more</td>\n",
       "    </tr>\n",
       "    <tr>\n",
       "      <th>42102811</th>\n",
       "      <td>1604948529612574727</td>\n",
       "      <td>1612449118860754947</td>\n",
       "      <td>https://hostux.social/@fsf</td>\n",
       "      <td>2.174168</td>\n",
       "      <td>fsf wrote a tweet.\\nThe tweet has a webpage li...</td>\n",
       "      <td>(B) will be liked 2.17 times more</td>\n",
       "    </tr>\n",
       "    <tr>\n",
       "      <th>...</th>\n",
       "      <td>...</td>\n",
       "      <td>...</td>\n",
       "      <td>...</td>\n",
       "      <td>...</td>\n",
       "      <td>...</td>\n",
       "      <td>...</td>\n",
       "    </tr>\n",
       "    <tr>\n",
       "      <th>34705521</th>\n",
       "      <td>887921866941370368</td>\n",
       "      <td>888040671743025152</td>\n",
       "      <td>https://po.st/HQGE7S</td>\n",
       "      <td>1.313301</td>\n",
       "      <td>Unilever wrote a tweet.\\nThe tweet has a webpa...</td>\n",
       "      <td>(A) will be liked 1.31 times more</td>\n",
       "    </tr>\n",
       "    <tr>\n",
       "      <th>12977293</th>\n",
       "      <td>483524336415162368</td>\n",
       "      <td>484031616952852481</td>\n",
       "      <td>https://ibm.co/1pj9uGa</td>\n",
       "      <td>2.801802</td>\n",
       "      <td>IBMcloud wrote a tweet.\\nThe tweet has a webpa...</td>\n",
       "      <td>(B) will be liked 2.8 times more</td>\n",
       "    </tr>\n",
       "    <tr>\n",
       "      <th>33983343</th>\n",
       "      <td>360807385142530049</td>\n",
       "      <td>370894316891541504</td>\n",
       "      <td>https://bit.ly/CSR-UPS</td>\n",
       "      <td>1.000000</td>\n",
       "      <td>UPS wrote a tweet.\\n Compare the engagement le...</td>\n",
       "      <td>(B) will be liked 1.0 times more</td>\n",
       "    </tr>\n",
       "    <tr>\n",
       "      <th>1467760</th>\n",
       "      <td>190833362288644097</td>\n",
       "      <td>191925922067263488</td>\n",
       "      <td>https://bit.ly/mykFsy</td>\n",
       "      <td>1.000000</td>\n",
       "      <td>msPartner wrote a tweet.\\n Compare the engagem...</td>\n",
       "      <td>(B) will be liked 1.0 times more</td>\n",
       "    </tr>\n",
       "    <tr>\n",
       "      <th>26732647</th>\n",
       "      <td>307281557897498625</td>\n",
       "      <td>322791237478383618</td>\n",
       "      <td>https://community.sap.com/resources/content-un...</td>\n",
       "      <td>1.473934</td>\n",
       "      <td>SAPCommunity wrote a tweet.\\nThe tweet has a w...</td>\n",
       "      <td>(B) will be liked 1.47 times more</td>\n",
       "    </tr>\n",
       "  </tbody>\n",
       "</table>\n",
       "<p>720812 rows × 6 columns</p>\n",
       "</div>"
      ],
      "text/plain": [
       "                         id_x                 id_y  \\\n",
       "1779976    256413915595014144   256415543232434176   \n",
       "11304550   710225882150002688   715965199853944832   \n",
       "17305828  1214607023427510274  1214611450481782785   \n",
       "23224027   661905865574780928   672868077990645761   \n",
       "42102811  1604948529612574727  1612449118860754947   \n",
       "...                       ...                  ...   \n",
       "34705521   887921866941370368   888040671743025152   \n",
       "12977293   483524336415162368   484031616952852481   \n",
       "33983343   360807385142530049   370894316891541504   \n",
       "1467760    190833362288644097   191925922067263488   \n",
       "26732647   307281557897498625   322791237478383618   \n",
       "\n",
       "                                                        url  likes_ratio  \\\n",
       "1779976               https://media-server.com/m/p/4tpzv3st     1.000000   \n",
       "11304550                             https://bit.ly/1KDGK5R     1.000000   \n",
       "17305828                            https://buff.ly/37Fm3TK     2.459854   \n",
       "23224027                             https://bit.ly/1Hng7xK     1.000000   \n",
       "42102811                         https://hostux.social/@fsf     2.174168   \n",
       "...                                                     ...          ...   \n",
       "34705521                               https://po.st/HQGE7S     1.313301   \n",
       "12977293                             https://ibm.co/1pj9uGa     2.801802   \n",
       "33983343                             https://bit.ly/CSR-UPS     1.000000   \n",
       "1467760                               https://bit.ly/mykFsy     1.000000   \n",
       "26732647  https://community.sap.com/resources/content-un...     1.473934   \n",
       "\n",
       "                                                instruction  \\\n",
       "1779976   nokianetworks wrote a tweet.\\nThe tweet has a ...   \n",
       "11304550  HALcruises wrote a tweet.\\nThe tweet has a web...   \n",
       "17305828  AmerIndependent wrote a tweet.\\nThe tweet has ...   \n",
       "23224027  NHSLeadership wrote a tweet.\\nThe tweet has a ...   \n",
       "42102811  fsf wrote a tweet.\\nThe tweet has a webpage li...   \n",
       "...                                                     ...   \n",
       "34705521  Unilever wrote a tweet.\\nThe tweet has a webpa...   \n",
       "12977293  IBMcloud wrote a tweet.\\nThe tweet has a webpa...   \n",
       "33983343  UPS wrote a tweet.\\n Compare the engagement le...   \n",
       "1467760   msPartner wrote a tweet.\\n Compare the engagem...   \n",
       "26732647  SAPCommunity wrote a tweet.\\nThe tweet has a w...   \n",
       "\n",
       "                                     answer  \n",
       "1779976    (B) will be liked 1.0 times more  \n",
       "11304550   (B) will be liked 1.0 times more  \n",
       "17305828  (A) will be liked 2.46 times more  \n",
       "23224027   (B) will be liked 1.0 times more  \n",
       "42102811  (B) will be liked 2.17 times more  \n",
       "...                                     ...  \n",
       "34705521  (A) will be liked 1.31 times more  \n",
       "12977293   (B) will be liked 2.8 times more  \n",
       "33983343   (B) will be liked 1.0 times more  \n",
       "1467760    (B) will be liked 1.0 times more  \n",
       "26732647  (B) will be liked 1.47 times more  \n",
       "\n",
       "[720812 rows x 6 columns]"
      ]
     },
     "execution_count": 17,
     "metadata": {},
     "output_type": "execute_result"
    }
   ],
   "source": [
    "rpair_sim"
   ]
  },
  {
   "cell_type": "code",
   "execution_count": 18,
   "id": "f56fdb07-3585-4c63-a344-eb82766daefa",
   "metadata": {},
   "outputs": [],
   "source": [
    "# rpair_sim.to_parquet('data/transuasion_it4_pair_sim.parquet')"
   ]
  },
  {
   "cell_type": "code",
   "execution_count": 19,
   "id": "c6ea814b-d3cb-4fb4-9037-5ef0c1d38e79",
   "metadata": {},
   "outputs": [
    {
     "name": "stdout",
     "output_type": "stream",
     "text": [
      "(dryrun) upload: data/transuasion_it4_pair_sim.parquet to s3://crawldatafromgcp/somesh/KPITranslation/transuasion_it4_pair_sim.parquet\n",
      "(dryrun) upload: data/tweets/dataset_dict.json to s3://crawldatafromgcp/somesh/KPITranslation/tweets/dataset_dict.json\n",
      "(dryrun) upload: data/tweets/train/data-00000-of-00080.arrow to s3://crawldatafromgcp/somesh/KPITranslation/tweets/train/data-00000-of-00080.arrow\n",
      "(dryrun) upload: data/tweets/train/data-00001-of-00080.arrow to s3://crawldatafromgcp/somesh/KPITranslation/tweets/train/data-00001-of-00080.arrow\n",
      "(dryrun) upload: data/tweets/train/data-00002-of-00080.arrow to s3://crawldatafromgcp/somesh/KPITranslation/tweets/train/data-00002-of-00080.arrow\n",
      "(dryrun) upload: data/tweets/train/data-00003-of-00080.arrow to s3://crawldatafromgcp/somesh/KPITranslation/tweets/train/data-00003-of-00080.arrow\n",
      "(dryrun) upload: data/tweets/train/data-00004-of-00080.arrow to s3://crawldatafromgcp/somesh/KPITranslation/tweets/train/data-00004-of-00080.arrow\n",
      "(dryrun) upload: data/tweets/train/data-00005-of-00080.arrow to s3://crawldatafromgcp/somesh/KPITranslation/tweets/train/data-00005-of-00080.arrow\n",
      "(dryrun) upload: data/tweets/train/data-00006-of-00080.arrow to s3://crawldatafromgcp/somesh/KPITranslation/tweets/train/data-00006-of-00080.arrow\n",
      "(dryrun) upload: data/tweets/train/data-00007-of-00080.arrow to s3://crawldatafromgcp/somesh/KPITranslation/tweets/train/data-00007-of-00080.arrow\n",
      "(dryrun) upload: data/tweets/train/data-00008-of-00080.arrow to s3://crawldatafromgcp/somesh/KPITranslation/tweets/train/data-00008-of-00080.arrow\n",
      "(dryrun) upload: data/tweets/train/data-00009-of-00080.arrow to s3://crawldatafromgcp/somesh/KPITranslation/tweets/train/data-00009-of-00080.arrow\n",
      "(dryrun) upload: data/tweets/train/data-00010-of-00080.arrow to s3://crawldatafromgcp/somesh/KPITranslation/tweets/train/data-00010-of-00080.arrow\n",
      "(dryrun) upload: data/tweets/train/data-00011-of-00080.arrow to s3://crawldatafromgcp/somesh/KPITranslation/tweets/train/data-00011-of-00080.arrow\n",
      "(dryrun) upload: data/tweets/train/data-00012-of-00080.arrow to s3://crawldatafromgcp/somesh/KPITranslation/tweets/train/data-00012-of-00080.arrow\n",
      "(dryrun) upload: data/tweets/train/data-00013-of-00080.arrow to s3://crawldatafromgcp/somesh/KPITranslation/tweets/train/data-00013-of-00080.arrow\n",
      "(dryrun) upload: data/tweets/train/data-00014-of-00080.arrow to s3://crawldatafromgcp/somesh/KPITranslation/tweets/train/data-00014-of-00080.arrow\n",
      "(dryrun) upload: data/tweets/train/data-00015-of-00080.arrow to s3://crawldatafromgcp/somesh/KPITranslation/tweets/train/data-00015-of-00080.arrow\n",
      "(dryrun) upload: data/tweets/train/data-00016-of-00080.arrow to s3://crawldatafromgcp/somesh/KPITranslation/tweets/train/data-00016-of-00080.arrow\n",
      "(dryrun) upload: data/tweets/train/data-00017-of-00080.arrow to s3://crawldatafromgcp/somesh/KPITranslation/tweets/train/data-00017-of-00080.arrow\n",
      "(dryrun) upload: data/tweets/train/data-00018-of-00080.arrow to s3://crawldatafromgcp/somesh/KPITranslation/tweets/train/data-00018-of-00080.arrow\n",
      "(dryrun) upload: data/tweets/train/data-00019-of-00080.arrow to s3://crawldatafromgcp/somesh/KPITranslation/tweets/train/data-00019-of-00080.arrow\n",
      "(dryrun) upload: data/tweets/train/data-00020-of-00080.arrow to s3://crawldatafromgcp/somesh/KPITranslation/tweets/train/data-00020-of-00080.arrow\n",
      "(dryrun) upload: data/tweets/train/data-00021-of-00080.arrow to s3://crawldatafromgcp/somesh/KPITranslation/tweets/train/data-00021-of-00080.arrow\n",
      "(dryrun) upload: data/tweets/train/data-00022-of-00080.arrow to s3://crawldatafromgcp/somesh/KPITranslation/tweets/train/data-00022-of-00080.arrow\n",
      "(dryrun) upload: data/tweets/train/data-00023-of-00080.arrow to s3://crawldatafromgcp/somesh/KPITranslation/tweets/train/data-00023-of-00080.arrow\n",
      "(dryrun) upload: data/tweets/train/data-00024-of-00080.arrow to s3://crawldatafromgcp/somesh/KPITranslation/tweets/train/data-00024-of-00080.arrow\n",
      "(dryrun) upload: data/tweets/train/data-00025-of-00080.arrow to s3://crawldatafromgcp/somesh/KPITranslation/tweets/train/data-00025-of-00080.arrow\n",
      "(dryrun) upload: data/tweets/train/data-00026-of-00080.arrow to s3://crawldatafromgcp/somesh/KPITranslation/tweets/train/data-00026-of-00080.arrow\n",
      "(dryrun) upload: data/tweets/train/data-00027-of-00080.arrow to s3://crawldatafromgcp/somesh/KPITranslation/tweets/train/data-00027-of-00080.arrow\n",
      "(dryrun) upload: data/tweets/train/data-00028-of-00080.arrow to s3://crawldatafromgcp/somesh/KPITranslation/tweets/train/data-00028-of-00080.arrow\n",
      "(dryrun) upload: data/tweets/train/data-00029-of-00080.arrow to s3://crawldatafromgcp/somesh/KPITranslation/tweets/train/data-00029-of-00080.arrow\n",
      "(dryrun) upload: data/tweets/train/data-00030-of-00080.arrow to s3://crawldatafromgcp/somesh/KPITranslation/tweets/train/data-00030-of-00080.arrow\n",
      "(dryrun) upload: data/tweets/train/data-00031-of-00080.arrow to s3://crawldatafromgcp/somesh/KPITranslation/tweets/train/data-00031-of-00080.arrow\n",
      "(dryrun) upload: data/tweets/train/data-00032-of-00080.arrow to s3://crawldatafromgcp/somesh/KPITranslation/tweets/train/data-00032-of-00080.arrow\n",
      "(dryrun) upload: data/tweets/train/data-00033-of-00080.arrow to s3://crawldatafromgcp/somesh/KPITranslation/tweets/train/data-00033-of-00080.arrow\n",
      "(dryrun) upload: data/tweets/train/data-00034-of-00080.arrow to s3://crawldatafromgcp/somesh/KPITranslation/tweets/train/data-00034-of-00080.arrow\n",
      "(dryrun) upload: data/tweets/train/data-00035-of-00080.arrow to s3://crawldatafromgcp/somesh/KPITranslation/tweets/train/data-00035-of-00080.arrow\n",
      "(dryrun) upload: data/tweets/train/data-00036-of-00080.arrow to s3://crawldatafromgcp/somesh/KPITranslation/tweets/train/data-00036-of-00080.arrow\n",
      "(dryrun) upload: data/tweets/train/data-00037-of-00080.arrow to s3://crawldatafromgcp/somesh/KPITranslation/tweets/train/data-00037-of-00080.arrow\n",
      "(dryrun) upload: data/tweets/train/data-00038-of-00080.arrow to s3://crawldatafromgcp/somesh/KPITranslation/tweets/train/data-00038-of-00080.arrow\n",
      "(dryrun) upload: data/tweets/train/data-00039-of-00080.arrow to s3://crawldatafromgcp/somesh/KPITranslation/tweets/train/data-00039-of-00080.arrow\n",
      "(dryrun) upload: data/tweets/train/data-00040-of-00080.arrow to s3://crawldatafromgcp/somesh/KPITranslation/tweets/train/data-00040-of-00080.arrow\n",
      "(dryrun) upload: data/tweets/train/data-00041-of-00080.arrow to s3://crawldatafromgcp/somesh/KPITranslation/tweets/train/data-00041-of-00080.arrow\n",
      "(dryrun) upload: data/tweets/train/data-00042-of-00080.arrow to s3://crawldatafromgcp/somesh/KPITranslation/tweets/train/data-00042-of-00080.arrow\n",
      "(dryrun) upload: data/tweets/train/data-00043-of-00080.arrow to s3://crawldatafromgcp/somesh/KPITranslation/tweets/train/data-00043-of-00080.arrow\n",
      "(dryrun) upload: data/tweets/train/data-00044-of-00080.arrow to s3://crawldatafromgcp/somesh/KPITranslation/tweets/train/data-00044-of-00080.arrow\n",
      "(dryrun) upload: data/tweets/train/data-00045-of-00080.arrow to s3://crawldatafromgcp/somesh/KPITranslation/tweets/train/data-00045-of-00080.arrow\n",
      "(dryrun) upload: data/tweets/train/data-00046-of-00080.arrow to s3://crawldatafromgcp/somesh/KPITranslation/tweets/train/data-00046-of-00080.arrow\n",
      "(dryrun) upload: data/tweets/train/data-00047-of-00080.arrow to s3://crawldatafromgcp/somesh/KPITranslation/tweets/train/data-00047-of-00080.arrow\n",
      "(dryrun) upload: data/tweets/train/data-00048-of-00080.arrow to s3://crawldatafromgcp/somesh/KPITranslation/tweets/train/data-00048-of-00080.arrow\n",
      "(dryrun) upload: data/tweets/train/data-00049-of-00080.arrow to s3://crawldatafromgcp/somesh/KPITranslation/tweets/train/data-00049-of-00080.arrow\n",
      "(dryrun) upload: data/tweets/train/data-00050-of-00080.arrow to s3://crawldatafromgcp/somesh/KPITranslation/tweets/train/data-00050-of-00080.arrow\n",
      "(dryrun) upload: data/tweets/train/data-00051-of-00080.arrow to s3://crawldatafromgcp/somesh/KPITranslation/tweets/train/data-00051-of-00080.arrow\n",
      "(dryrun) upload: data/tweets/train/data-00052-of-00080.arrow to s3://crawldatafromgcp/somesh/KPITranslation/tweets/train/data-00052-of-00080.arrow\n",
      "(dryrun) upload: data/tweets/train/data-00053-of-00080.arrow to s3://crawldatafromgcp/somesh/KPITranslation/tweets/train/data-00053-of-00080.arrow\n",
      "(dryrun) upload: data/tweets/train/data-00054-of-00080.arrow to s3://crawldatafromgcp/somesh/KPITranslation/tweets/train/data-00054-of-00080.arrow\n",
      "(dryrun) upload: data/tweets/train/data-00055-of-00080.arrow to s3://crawldatafromgcp/somesh/KPITranslation/tweets/train/data-00055-of-00080.arrow\n",
      "(dryrun) upload: data/tweets/train/data-00056-of-00080.arrow to s3://crawldatafromgcp/somesh/KPITranslation/tweets/train/data-00056-of-00080.arrow\n",
      "(dryrun) upload: data/tweets/train/data-00057-of-00080.arrow to s3://crawldatafromgcp/somesh/KPITranslation/tweets/train/data-00057-of-00080.arrow\n",
      "(dryrun) upload: data/tweets/train/data-00058-of-00080.arrow to s3://crawldatafromgcp/somesh/KPITranslation/tweets/train/data-00058-of-00080.arrow\n",
      "(dryrun) upload: data/tweets/train/data-00059-of-00080.arrow to s3://crawldatafromgcp/somesh/KPITranslation/tweets/train/data-00059-of-00080.arrow\n",
      "(dryrun) upload: data/tweets/train/data-00060-of-00080.arrow to s3://crawldatafromgcp/somesh/KPITranslation/tweets/train/data-00060-of-00080.arrow\n",
      "(dryrun) upload: data/tweets/train/data-00061-of-00080.arrow to s3://crawldatafromgcp/somesh/KPITranslation/tweets/train/data-00061-of-00080.arrow\n",
      "(dryrun) upload: data/tweets/train/data-00062-of-00080.arrow to s3://crawldatafromgcp/somesh/KPITranslation/tweets/train/data-00062-of-00080.arrow\n",
      "(dryrun) upload: data/tweets/train/data-00063-of-00080.arrow to s3://crawldatafromgcp/somesh/KPITranslation/tweets/train/data-00063-of-00080.arrow\n",
      "(dryrun) upload: data/tweets/train/data-00064-of-00080.arrow to s3://crawldatafromgcp/somesh/KPITranslation/tweets/train/data-00064-of-00080.arrow\n",
      "(dryrun) upload: data/tweets/train/data-00065-of-00080.arrow to s3://crawldatafromgcp/somesh/KPITranslation/tweets/train/data-00065-of-00080.arrow\n",
      "(dryrun) upload: data/tweets/train/data-00066-of-00080.arrow to s3://crawldatafromgcp/somesh/KPITranslation/tweets/train/data-00066-of-00080.arrow\n",
      "(dryrun) upload: data/tweets/train/data-00067-of-00080.arrow to s3://crawldatafromgcp/somesh/KPITranslation/tweets/train/data-00067-of-00080.arrow\n",
      "(dryrun) upload: data/tweets/train/data-00068-of-00080.arrow to s3://crawldatafromgcp/somesh/KPITranslation/tweets/train/data-00068-of-00080.arrow\n",
      "(dryrun) upload: data/tweets/train/data-00069-of-00080.arrow to s3://crawldatafromgcp/somesh/KPITranslation/tweets/train/data-00069-of-00080.arrow\n",
      "(dryrun) upload: data/tweets/train/data-00070-of-00080.arrow to s3://crawldatafromgcp/somesh/KPITranslation/tweets/train/data-00070-of-00080.arrow\n",
      "(dryrun) upload: data/tweets/train/data-00071-of-00080.arrow to s3://crawldatafromgcp/somesh/KPITranslation/tweets/train/data-00071-of-00080.arrow\n",
      "(dryrun) upload: data/tweets/train/data-00072-of-00080.arrow to s3://crawldatafromgcp/somesh/KPITranslation/tweets/train/data-00072-of-00080.arrow\n",
      "(dryrun) upload: data/tweets/train/data-00073-of-00080.arrow to s3://crawldatafromgcp/somesh/KPITranslation/tweets/train/data-00073-of-00080.arrow\n",
      "(dryrun) upload: data/tweets/train/data-00074-of-00080.arrow to s3://crawldatafromgcp/somesh/KPITranslation/tweets/train/data-00074-of-00080.arrow\n",
      "(dryrun) upload: data/tweets/train/data-00075-of-00080.arrow to s3://crawldatafromgcp/somesh/KPITranslation/tweets/train/data-00075-of-00080.arrow\n",
      "(dryrun) upload: data/tweets/train/data-00076-of-00080.arrow to s3://crawldatafromgcp/somesh/KPITranslation/tweets/train/data-00076-of-00080.arrow\n",
      "(dryrun) upload: data/tweets/train/data-00077-of-00080.arrow to s3://crawldatafromgcp/somesh/KPITranslation/tweets/train/data-00077-of-00080.arrow\n",
      "(dryrun) upload: data/tweets/train/data-00078-of-00080.arrow to s3://crawldatafromgcp/somesh/KPITranslation/tweets/train/data-00078-of-00080.arrow\n",
      "(dryrun) upload: data/tweets/train/data-00079-of-00080.arrow to s3://crawldatafromgcp/somesh/KPITranslation/tweets/train/data-00079-of-00080.arrow\n",
      "(dryrun) upload: data/tweets/train/dataset_info.json to s3://crawldatafromgcp/somesh/KPITranslation/tweets/train/dataset_info.json\n",
      "(dryrun) upload: data/tweets/train/state.json to s3://crawldatafromgcp/somesh/KPITranslation/tweets/train/state.json\n",
      "(dryrun) upload: data/wordlist-20210729.txt to s3://crawldatafromgcp/somesh/KPITranslation/wordlist-20210729.txt\n"
     ]
    }
   ],
   "source": [
    "# !aws s3 sync ./data s3://crawldatafromgcp/somesh/KPITranslation"
   ]
  },
  {
   "cell_type": "markdown",
   "id": "675c5444-5a60-4794-8c88-f8ed53431f2a",
   "metadata": {},
   "source": [
    "# Transuasion"
   ]
  },
  {
   "cell_type": "code",
   "execution_count": null,
   "id": "d849dc2e-c45b-466f-8075-981330d7a8f3",
   "metadata": {},
   "outputs": [],
   "source": []
  },
  {
   "cell_type": "code",
   "execution_count": null,
   "id": "f3ee739c-e79f-44d7-b46e-33b5526ca23a",
   "metadata": {},
   "outputs": [],
   "source": []
  },
  {
   "cell_type": "code",
   "execution_count": null,
   "id": "efec237b-821f-47ba-bddc-399980cf237c",
   "metadata": {},
   "outputs": [],
   "source": []
  },
  {
   "cell_type": "markdown",
   "id": "fbf014a7-4d85-4f43-b6ff-2157218c73e7",
   "metadata": {},
   "source": [
    "# Single Simulation"
   ]
  },
  {
   "cell_type": "code",
   "execution_count": 20,
   "id": "8f9cce26-8dd0-4136-9acb-40d959c4bfd8",
   "metadata": {},
   "outputs": [],
   "source": [
    "# get tweets that have been unused before hand and get their behaviour"
   ]
  },
  {
   "cell_type": "code",
   "execution_count": null,
   "id": "df0d3731-5c83-4c0c-9a2d-e02afa0985c9",
   "metadata": {},
   "outputs": [],
   "source": []
  },
  {
   "cell_type": "code",
   "execution_count": null,
   "id": "8e3380b9-3fce-4563-8661-f792bbddb309",
   "metadata": {},
   "outputs": [],
   "source": []
  }
 ],
 "metadata": {
  "kernelspec": {
   "display_name": "Python 3",
   "language": "python",
   "name": "python3"
  },
  "language_info": {
   "codemirror_mode": {
    "name": "ipython",
    "version": 3
   },
   "file_extension": ".py",
   "mimetype": "text/x-python",
   "name": "python",
   "nbconvert_exporter": "python",
   "pygments_lexer": "ipython3",
   "version": "3.8.12"
  }
 },
 "nbformat": 4,
 "nbformat_minor": 5
}
