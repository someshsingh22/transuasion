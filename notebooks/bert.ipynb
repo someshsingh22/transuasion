{
 "cells": [
  {
   "cell_type": "code",
   "execution_count": null,
   "metadata": {},
   "outputs": [],
   "source": [
    "import os\n",
    "import torch\n",
    "import pandas as pd\n",
    "from tqdm import tqdm\n",
    "import numpy as np\n",
    "\n",
    "tqdm.pandas()"
   ]
  },
  {
   "cell_type": "code",
   "execution_count": null,
   "metadata": {},
   "outputs": [],
   "source": [
    "embs = [torch.load(f'./parallel_shards_embeddings_bert/'+f) for f in sorted(os.listdir('parallel_shards_embeddings_bert/'))]\n",
    "final_emb = {'index':[], 'embeddings':[]}\n",
    "\n",
    "for emb in embs:\n",
    "    final_emb['index'].extend(emb['index'])\n",
    "    final_emb['embeddings'].append(emb['embeddings'])\n",
    "    \n",
    "final_emb['embeddings'] = torch.cat(final_emb['embeddings'])\n",
    "final_emb = dict(zip(final_emb['index'], final_emb['embeddings']))\n",
    "\n",
    "def get_sim(x, y):\n",
    "    cos = torch.nn.CosineSimilarity(dim=0, eps=1e-6)\n",
    "    return cos(final_emb[x], final_emb[y]).item()"
   ]
  },
  {
   "cell_type": "code",
   "execution_count": null,
   "metadata": {},
   "outputs": [],
   "source": [
    "dfs = [pd.read_parquet('./parallel_shards/'+f) for f in sorted(os.listdir('parallel_shards/'))]\n",
    "df = pd.concat(dfs)\n",
    "df = df[df['id'].isin(final_emb.keys())]\n",
    "df_pairs= df.merge(df, on=['username','url'], how='inner')\n",
    "df_pairs= df_pairs[df_pairs['id_x']<df_pairs['id_y']]"
   ]
  },
  {
   "cell_type": "code",
   "execution_count": null,
   "metadata": {},
   "outputs": [],
   "source": [
    "df_pairs['similarity'] = df_pairs.apply(lambda x: get_sim(x['id_x'], x['id_y']), axis=1)"
   ]
  },
  {
   "cell_type": "code",
   "execution_count": null,
   "metadata": {},
   "outputs": [],
   "source": [
    "m = df_pairs[['id_x', 'id_y', 'url', 'username']]\n",
    "tfidf = pd.read_parquet('tfidf.parquet')\n",
    "df_pairs['tfidf_similarity'] = m.merge(tfidf, on=['id_x', 'id_y', 'url', 'username'], how='left')['tfidf_similarity']"
   ]
  },
  {
   "cell_type": "code",
   "execution_count": null,
   "metadata": {},
   "outputs": [],
   "source": [
    "df_pairs.to_parquet('parallel_tweet_it0.parquet')\n",
    "torch.save(final_emb, 'tweet_it0_bert.pt')"
   ]
  }
 ],
 "metadata": {
  "language_info": {
   "name": "python"
  }
 },
 "nbformat": 4,
 "nbformat_minor": 2
}
