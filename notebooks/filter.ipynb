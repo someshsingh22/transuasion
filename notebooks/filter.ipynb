{
 "cells": [
  {
   "cell_type": "code",
   "execution_count": 9,
   "metadata": {},
   "outputs": [],
   "source": [
    "import numpy as np\n",
    "import seaborn as sns\n",
    "import matplotlib.pyplot as plt\n",
    "import pandas as pd\n",
    "\n",
    "def plot(data, l, r, x_value, xlabel, filename):\n",
    "    fig, ax = plt.subplots(figsize=(20, 15))\n",
    "    total = len(data)\n",
    "    l_p, r_p = (data <= l).sum() / total, (data <= r).sum() / total\n",
    "    \n",
    "    # Plot ECDF\n",
    "    ecdf_plot = sns.ecdfplot(data=data[(data >= l) & (data <= r)], marker=\"o\", linestyle=\"solid\", color=\"b\")\n",
    "    \n",
    "    # Calculate ECDF values\n",
    "    x_ecdf = np.sort(data[(data >= l) & (data <= r)])\n",
    "    y_ecdf = np.arange(1, len(x_ecdf) + 1) / len(x_ecdf)\n",
    "    \n",
    "    \n",
    "    ax.set_xlim(l, r)\n",
    "    ecdf_plot.set_yticks(np.linspace(0, 1, 6))\n",
    "    ecdf_plot.set_yticklabels((np.linspace(l_p * 100, r_p * 100, 6)).astype(int))\n",
    "    \n",
    "    ecdf_plot.set_xticks(np.linspace(l, r, 11))\n",
    "    ecdf_plot.set_xticklabels(np.round(np.linspace(l, r, 11), 2))\n",
    "    \n",
    "    # Add lines to the closest point\n",
    "    \n",
    "    # Find the index of the closest value to x_value\n",
    "    for _x_value in x_value: \n",
    "        closest_index = np.argmin(np.abs(x_ecdf - _x_value))\n",
    "        closest_x = x_ecdf[closest_index]\n",
    "        closest_y = y_ecdf[closest_index]\n",
    "        closest_x = np.round(closest_x, 2)\n",
    "        closest_y = np.round(closest_y, 2)\n",
    "        \n",
    "        ecdf_plot.plot([closest_x, closest_x], [0, closest_y], linestyle=\"--\", color=\"red\")\n",
    "        ecdf_plot.plot([l, closest_x], [closest_y, closest_y], linestyle=\"--\", color=\"red\")    \n",
    "        yticks = list(ecdf_plot.get_yticks())\n",
    "        xticks = list(ecdf_plot.get_xticks())\n",
    "        xticklabels = list(ecdf_plot.get_xticklabels())\n",
    "        yticklabels = list(ecdf_plot.get_yticklabels())\n",
    "        xticks+=[closest_x]\n",
    "        yticks+=[closest_y]\n",
    "        xticklabels+=[closest_x]\n",
    "        yticklabels+=[int((l_p + (closest_y * (r_p - l_p))) * 100)]\n",
    "        ecdf_plot.set_yticks(yticks)\n",
    "        ecdf_plot.set_xticks(xticks)\n",
    "        ecdf_plot.set_xticklabels(xticklabels)\n",
    "        ecdf_plot.set_yticklabels(yticklabels)\n",
    "    \n",
    "    #rotate xticks\n",
    "    plt.xticks(rotation=90, fontsize=16)\n",
    "    plt.yticks(fontsize=16)\n",
    "    plt.xlabel(xlabel, fontsize=24)\n",
    "    plt.ylabel(\"Percentile in the distribution\", fontsize=24)\n",
    "    \n",
    "    # Add grid\n",
    "    ecdf_plot.grid(True)\n",
    "    #savefig\n",
    "    \n",
    "    plt.savefig(f'plots/{filename}_cdf.png', dpi=1200, bbox_inches='tight')"
   ]
  },
  {
   "cell_type": "code",
   "execution_count": 10,
   "metadata": {},
   "outputs": [
    {
     "name": "stdout",
     "output_type": "stream",
     "text": [
      "/Users/someshsingh/Github/transuasion\n"
     ]
    }
   ],
   "source": [
    "%cd .."
   ]
  },
  {
   "cell_type": "code",
   "execution_count": 3,
   "metadata": {},
   "outputs": [],
   "source": [
    "df = pd.read_parquet(\"data/parallel_tweet_it0_stats.parquet\")"
   ]
  },
  {
   "cell_type": "code",
   "execution_count": 7,
   "metadata": {},
   "outputs": [],
   "source": [
    "df = df[df['character_difference']>5]"
   ]
  },
  {
   "cell_type": "code",
   "execution_count": 11,
   "metadata": {},
   "outputs": [],
   "source": [
    "fig = plot(df['date_diff'], 7, 90, [14, 30, 45, 60, 75], \"Absolute difference in days\", \"date_diff\")"
   ]
  },
  {
   "cell_type": "code",
   "execution_count": null,
   "metadata": {},
   "outputs": [],
   "source": []
  },
  {
   "cell_type": "code",
   "execution_count": null,
   "metadata": {},
   "outputs": [],
   "source": []
  },
  {
   "cell_type": "code",
   "execution_count": null,
   "metadata": {},
   "outputs": [],
   "source": [
    "fig = plot(df_45['bert_similarity'], 0.4, 0.99, [0.5, 0.7, 0.8, 0.9, 0.95, 0.97], \"BERT-Large Uncased similarity score\")"
   ]
  }
 ],
 "metadata": {
  "kernelspec": {
   "display_name": "express",
   "language": "python",
   "name": "python3"
  },
  "language_info": {
   "codemirror_mode": {
    "name": "ipython",
    "version": 3
   },
   "file_extension": ".py",
   "mimetype": "text/x-python",
   "name": "python",
   "nbconvert_exporter": "python",
   "pygments_lexer": "ipython3",
   "version": "3.10.12"
  }
 },
 "nbformat": 4,
 "nbformat_minor": 2
}
