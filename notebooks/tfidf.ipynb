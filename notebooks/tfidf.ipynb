{
 "cells": [
  {
   "cell_type": "code",
   "execution_count": null,
   "metadata": {},
   "outputs": [],
   "source": [
    "import os\n",
    "import pandas as pd\n",
    "from tqdm import tqdm\n",
    "from sklearn.feature_extraction.text import TfidfVectorizer\n",
    "import nltk\n",
    "from nltk.corpus import stopwords\n",
    "from sklearn.metrics.pairwise import paired_cosine_distances\n",
    "\n",
    "tqdm.pandas()\n",
    "nltk.download('stopwords')\n",
    "\n",
    "def preprocess_text(text):\n",
    "    tokens = text.lower().split()\n",
    "    stop_words = set(stopwords.words('english'))\n",
    "    tokens = [token for token in tokens if token.isalnum() and token not in stop_words]\n",
    "    return \" \".join(tokens)"
   ]
  },
  {
   "cell_type": "code",
   "execution_count": null,
   "metadata": {},
   "outputs": [],
   "source": [
    "dfs = [pd.read_parquet('./parallel_shards/'+f) for f in sorted(os.listdir('parallel_shards/'))]\n",
    "df = pd.concat(dfs)\n",
    "df_pairs= df.merge(df, on=['username','url'], how='inner')\n",
    "df_pairs= df_pairs[df_pairs['id_x']<df_pairs['id_y']]\n",
    "idx_map = {v:i for i,v in enumerate(df['id'])}\n",
    "xidx = df_pairs['id_x'].apply(lambda x: idx_map[x])\n",
    "yidx = df_pairs['id_y'].apply(lambda x: idx_map[x])"
   ]
  },
  {
   "cell_type": "code",
   "execution_count": null,
   "metadata": {},
   "outputs": [],
   "source": [
    "tweet_sample = df.groupby('username', group_keys=False).apply(lambda x: x.sample(min(len(x), 300)))\n",
    "preprocessed_tweets = tweet_sample['clean_tweet'].progress_apply(preprocess_text)\n",
    "vectorizer = TfidfVectorizer()\n",
    "tfidf_matrix = vectorizer.fit_transform(preprocessed_tweets)"
   ]
  },
  {
   "cell_type": "code",
   "execution_count": null,
   "metadata": {},
   "outputs": [],
   "source": [
    "text = df['clean_tweet'].progress_apply(lambda x: preprocess_text(x))\n",
    "text = vectorizer.transform(text)\n",
    "x,y = text[xidx], text[yidx]\n",
    "df_pairs['tfidf_similarity'] = paired_cosine_distances(x, y)\n",
    "df_pairs[['tfidf_similarity', 'id_x', 'id_y', 'url', 'username']].to_parquet('tfidf.parquet')"
   ]
  }
 ],
 "metadata": {
  "kernelspec": {
   "display_name": "Python 3",
   "language": "python",
   "name": "python3"
  },
  "language_info": {
   "name": "python",
   "version": "3.10.12"
  }
 },
 "nbformat": 4,
 "nbformat_minor": 2
}
